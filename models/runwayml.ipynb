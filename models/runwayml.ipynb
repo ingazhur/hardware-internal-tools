{
 "cells": [
  {
   "cell_type": "code",
   "execution_count": 3,
   "metadata": {},
   "outputs": [],
   "source": [
    "import json\n",
    "import requests\n",
    "from PIL import Image\n",
    "import io\n",
    "import re\n",
    "import base64\n",
    "from time import time\n",
    "\n",
    "API_TOKEN = \"\"  # token in case you want to use private API\n",
    "headers = {\n",
    "    # \"Authorization\": f\"Bearer {API_TOKEN}\",\n",
    "    \"X-Wait-For-Model\": \"true\",\n",
    "    \"X-Use-Cache\": \"false\"\n",
    "}\n",
    "API_URL = \"https://api-inference.huggingface.co/models/runwayml/stable-diffusion-v1-5\"\n",
    "\n",
    "\n",
    "def query(payload):\n",
    "    data = json.dumps(payload)\n",
    "    response = requests.request(\"POST\", API_URL, headers=headers, data=data)\n",
    "    return Image.open(io.BytesIO(response.content))\n",
    "\n",
    "\n",
    "def slugify(text):\n",
    "    # remove non-word characters and foreign characters\n",
    "    text = re.sub(r\"[^\\w\\s]\", \"\", text)\n",
    "    text = re.sub(r\"\\s+\", \"-\", text)\n",
    "    return text\n",
    "\n",
    "\n",
    "prompt = \"A photo of a flying cat\"\n",
    "\n",
    "# Specify the path to your local image file\n",
    "image_path = '../images/simple.jpg'  # Replace with the actual image file path\n",
    "\n",
    "with open(image_path, \"rb\") as f:\n",
    "    image_data = f.read()\n",
    "    encoded_image = base64.b64encode(image_data).decode(\"utf-8\")\n",
    "\n",
    "image = query({\"inputs\": encoded_image})\n",
    "image.save(f\"{slugify(prompt)}-{time():.0f}.png\")"
   ]
  },
  {
   "cell_type": "code",
   "execution_count": null,
   "metadata": {},
   "outputs": [],
   "source": []
  }
 ],
 "metadata": {
  "kernelspec": {
   "display_name": "Python 3",
   "language": "python",
   "name": "python3"
  },
  "language_info": {
   "codemirror_mode": {
    "name": "ipython",
    "version": 3
   },
   "file_extension": ".py",
   "mimetype": "text/x-python",
   "name": "python",
   "nbconvert_exporter": "python",
   "pygments_lexer": "ipython3",
   "version": "3.9.16"
  },
  "orig_nbformat": 4
 },
 "nbformat": 4,
 "nbformat_minor": 2
}
