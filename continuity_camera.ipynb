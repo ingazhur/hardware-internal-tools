{
 "cells": [
  {
   "cell_type": "code",
   "execution_count": 1,
   "metadata": {},
   "outputs": [],
   "source": [
    "import objc\n",
    "import AppKit\n",
    "import AVFoundation as AVF\n",
    "import Quartz as Quartz"
   ]
  },
  {
   "cell_type": "code",
   "execution_count": 2,
   "metadata": {},
   "outputs": [],
   "source": [
    "workspace = objc.lookUpClass('NSWorkspace').sharedWorkspace()\n",
    "apps = workspace.runningApplications()\n",
    "urls = [app.bundleURL().absoluteString() for app in apps]\n",
    "screens = AppKit.NSScreen.screens() # get the list of all the screens connected to the Mac\n"
   ]
  },
  {
   "cell_type": "code",
   "execution_count": 3,
   "metadata": {},
   "outputs": [
    {
     "name": "stdout",
     "output_type": "stream",
     "text": [
      "(None, Error Domain=AVFoundationErrorDomain Code=-11852 \"Cannot use FaceTime HD Camera\" UserInfo={NSLocalizedFailureReason=This app is not authorized to use FaceTime HD Camera., AVErrorDeviceKey=<AVCaptureDALDevice: 0x7fc15a935970 [FaceTime HD Camera][47B4B64B-7067-4B9C-AD2B-AE273A71F4B5]>, NSLocalizedDescription=Cannot use FaceTime HD Camera})\n"
     ]
    },
    {
     "ename": "ValueError",
     "evalue": "NSInvalidArgumentException - *** -[AVCaptureSession _addInputWithNoConnections:] *** Can't add a nil AVCaptureInput",
     "output_type": "error",
     "traceback": [
      "\u001b[0;31m---------------------------------------------------------------------------\u001b[0m",
      "\u001b[0;31mValueError\u001b[0m                                Traceback (most recent call last)",
      "\u001b[0;32m/var/folders/1r/3s253hw50_z29rw89v5v3n7m0000gn/T/ipykernel_76969/2957088611.py\u001b[0m in \u001b[0;36m<module>\u001b[0;34m\u001b[0m\n\u001b[1;32m      4\u001b[0m \u001b[0mprint\u001b[0m\u001b[0;34m(\u001b[0m\u001b[0mcapture_input\u001b[0m\u001b[0;34m)\u001b[0m\u001b[0;34m\u001b[0m\u001b[0;34m\u001b[0m\u001b[0m\n\u001b[1;32m      5\u001b[0m \u001b[0;34m\u001b[0m\u001b[0m\n\u001b[0;32m----> 6\u001b[0;31m \u001b[0mcapture_session\u001b[0m\u001b[0;34m.\u001b[0m\u001b[0maddInput_\u001b[0m\u001b[0;34m(\u001b[0m\u001b[0mcapture_input\u001b[0m\u001b[0;34m[\u001b[0m\u001b[0;36m0\u001b[0m\u001b[0;34m]\u001b[0m\u001b[0;34m)\u001b[0m\u001b[0;34m\u001b[0m\u001b[0;34m\u001b[0m\u001b[0m\n\u001b[0m\u001b[1;32m      7\u001b[0m \u001b[0mcapture_session\u001b[0m\u001b[0;34m.\u001b[0m\u001b[0mstartRunning\u001b[0m\u001b[0;34m(\u001b[0m\u001b[0;34m)\u001b[0m\u001b[0;34m\u001b[0m\u001b[0;34m\u001b[0m\u001b[0m\n\u001b[1;32m      8\u001b[0m \u001b[0;34m\u001b[0m\u001b[0m\n",
      "\u001b[0;31mValueError\u001b[0m: NSInvalidArgumentException - *** -[AVCaptureSession _addInputWithNoConnections:] *** Can't add a nil AVCaptureInput"
     ]
    }
   ],
   "source": [
    "capture_session = AVF.AVCaptureSession.alloc().init()\n",
    "capture_device = AVF.AVCaptureDevice.defaultDeviceWithMediaType_(AVF.AVMediaTypeVideo)\n",
    "capture_input = AVF.AVCaptureDeviceInput.deviceInputWithDevice_error_(capture_device, None)\n",
    "print(capture_input)\n",
    "\n",
    "capture_session.addInput_(capture_input[0])\n",
    "capture_session.startRunning()\n",
    "\n",
    "capture_output = AVF.AVCaptureVideoDataOutput.alloc().init()\n",
    "capture_session.addOutput_(capture_output)\n",
    "capture_output.setAlwaysDiscardsLateVideoFrames_(True)"
   ]
  },
  {
   "cell_type": "code",
   "execution_count": 4,
   "metadata": {},
   "outputs": [
    {
     "ename": "AttributeError",
     "evalue": "'CGImageRef' object has no attribute 'saveToFile_atomically_'",
     "output_type": "error",
     "traceback": [
      "\u001b[0;31m---------------------------------------------------------------------------\u001b[0m",
      "\u001b[0;31mAttributeError\u001b[0m                            Traceback (most recent call last)",
      "\u001b[0;32m/var/folders/1r/3s253hw50_z29rw89v5v3n7m0000gn/T/ipykernel_76969/3695361775.py\u001b[0m in \u001b[0;36m<module>\u001b[0;34m\u001b[0m\n\u001b[1;32m      3\u001b[0m         \u001b[0mscreen_frame\u001b[0m \u001b[0;34m=\u001b[0m \u001b[0mscreen\u001b[0m\u001b[0;34m.\u001b[0m\u001b[0mframe\u001b[0m\u001b[0;34m(\u001b[0m\u001b[0;34m)\u001b[0m \u001b[0;31m# get the frame of the screen\u001b[0m\u001b[0;34m\u001b[0m\u001b[0;34m\u001b[0m\u001b[0m\n\u001b[1;32m      4\u001b[0m         \u001b[0mscreen_image\u001b[0m \u001b[0;34m=\u001b[0m \u001b[0mQuartz\u001b[0m\u001b[0;34m.\u001b[0m\u001b[0mCGWindowListCreateImage\u001b[0m\u001b[0;34m(\u001b[0m\u001b[0mscreen_frame\u001b[0m\u001b[0;34m,\u001b[0m \u001b[0mQuartz\u001b[0m\u001b[0;34m.\u001b[0m\u001b[0mkCGWindowListOptionOnScreenOnly\u001b[0m\u001b[0;34m,\u001b[0m \u001b[0mQuartz\u001b[0m\u001b[0;34m.\u001b[0m\u001b[0mkCGNullWindowID\u001b[0m\u001b[0;34m,\u001b[0m \u001b[0mQuartz\u001b[0m\u001b[0;34m.\u001b[0m\u001b[0mkCGWindowImageDefault\u001b[0m\u001b[0;34m)\u001b[0m\u001b[0;34m\u001b[0m\u001b[0;34m\u001b[0m\u001b[0m\n\u001b[0;32m----> 5\u001b[0;31m         \u001b[0mscreen_image\u001b[0m\u001b[0;34m.\u001b[0m\u001b[0msaveToFile_atomically_\u001b[0m\u001b[0;34m(\u001b[0m\u001b[0;34m'screen.png'\u001b[0m\u001b[0;34m,\u001b[0m \u001b[0;32mTrue\u001b[0m\u001b[0;34m)\u001b[0m\u001b[0;34m\u001b[0m\u001b[0;34m\u001b[0m\u001b[0m\n\u001b[0m\u001b[1;32m      6\u001b[0m         \u001b[0;32mbreak\u001b[0m\u001b[0;34m\u001b[0m\u001b[0;34m\u001b[0m\u001b[0m\n\u001b[1;32m      7\u001b[0m     \u001b[0;32mbreak\u001b[0m\u001b[0;34m\u001b[0m\u001b[0;34m\u001b[0m\u001b[0m\n",
      "\u001b[0;31mAttributeError\u001b[0m: 'CGImageRef' object has no attribute 'saveToFile_atomically_'"
     ]
    }
   ],
   "source": [
    "while True:\n",
    "    for screen in screens:\n",
    "        screen_frame = screen.frame() # get the frame of the screen\n",
    "        screen_image = Quartz.CGWindowListCreateImage(screen_frame, Quartz.kCGWindowListOptionOnScreenOnly, Quartz.kCGNullWindowID, Quartz.kCGWindowImageDefault)\n",
    "        screen_image.saveToFile_atomically_('screen.png', True)\n",
    "        break\n",
    "    break\n"
   ]
  },
  {
   "cell_type": "code",
   "execution_count": 14,
   "metadata": {},
   "outputs": [
    {
     "ename": "NameError",
     "evalue": "name 'image' is not defined",
     "output_type": "error",
     "traceback": [
      "\u001b[0;31m---------------------------------------------------------------------------\u001b[0m",
      "\u001b[0;31mNameError\u001b[0m                                 Traceback (most recent call last)",
      "\u001b[0;32m/var/folders/1r/3s253hw50_z29rw89v5v3n7m0000gn/T/ipykernel_73958/3338881140.py\u001b[0m in \u001b[0;36m<module>\u001b[0;34m\u001b[0m\n\u001b[1;32m      1\u001b[0m \u001b[0mpasteboard\u001b[0m \u001b[0;34m=\u001b[0m \u001b[0mAppKit\u001b[0m\u001b[0;34m.\u001b[0m\u001b[0mNSPasteboard\u001b[0m\u001b[0;34m.\u001b[0m\u001b[0mgeneralPasteboard\u001b[0m\u001b[0;34m(\u001b[0m\u001b[0;34m)\u001b[0m\u001b[0;34m\u001b[0m\u001b[0;34m\u001b[0m\u001b[0m\n\u001b[1;32m      2\u001b[0m \u001b[0mpasteboard\u001b[0m\u001b[0;34m.\u001b[0m\u001b[0mclearContents\u001b[0m\u001b[0;34m(\u001b[0m\u001b[0;34m)\u001b[0m\u001b[0;34m\u001b[0m\u001b[0;34m\u001b[0m\u001b[0m\n\u001b[0;32m----> 3\u001b[0;31m \u001b[0mpasteboard\u001b[0m\u001b[0;34m.\u001b[0m\u001b[0mwriteObjects_\u001b[0m\u001b[0;34m(\u001b[0m\u001b[0;34m[\u001b[0m\u001b[0mimage\u001b[0m\u001b[0;34m]\u001b[0m\u001b[0;34m)\u001b[0m\u001b[0;34m\u001b[0m\u001b[0;34m\u001b[0m\u001b[0m\n\u001b[0m",
      "\u001b[0;31mNameError\u001b[0m: name 'image' is not defined"
     ]
    }
   ],
   "source": [
    "pasteboard = AppKit.NSPasteboard.generalPasteboard()\n",
    "pasteboard.clearContents()\n",
    "pasteboard.writeObjects_([image])"
   ]
  },
  {
   "cell_type": "code",
   "execution_count": null,
   "metadata": {},
   "outputs": [],
   "source": [
    "for app in apps:\n",
    "    if app.bundleURL().absoluteString() == APP_BUNDLE_URL:\n",
    "        target_app = app\n",
    "        break\n"
   ]
  },
  {
   "cell_type": "code",
   "execution_count": 5,
   "metadata": {},
   "outputs": [
    {
     "ename": "NameError",
     "evalue": "name 'target_app' is not defined",
     "output_type": "error",
     "traceback": [
      "\u001b[0;31m---------------------------------------------------------------------------\u001b[0m",
      "\u001b[0;31mNameError\u001b[0m                                 Traceback (most recent call last)",
      "\u001b[0;32m/var/folders/1r/3s253hw50_z29rw89v5v3n7m0000gn/T/ipykernel_76969/1790986350.py\u001b[0m in \u001b[0;36m<module>\u001b[0;34m\u001b[0m\n\u001b[0;32m----> 1\u001b[0;31m \u001b[0mtarget_app\u001b[0m\u001b[0;34m.\u001b[0m\u001b[0mactivateWithOptions_\u001b[0m\u001b[0;34m(\u001b[0m\u001b[0mAppKit\u001b[0m\u001b[0;34m.\u001b[0m\u001b[0mNSApplicationActivateAllWindows\u001b[0m\u001b[0;34m)\u001b[0m\u001b[0;34m\u001b[0m\u001b[0;34m\u001b[0m\u001b[0m\n\u001b[0m",
      "\u001b[0;31mNameError\u001b[0m: name 'target_app' is not defined"
     ]
    }
   ],
   "source": [
    "target_app.activateWithOptions_(AppKit.NSApplicationActivateAllWindows)\n"
   ]
  },
  {
   "cell_type": "code",
   "execution_count": null,
   "metadata": {},
   "outputs": [],
   "source": [
    "script_source = 'tell application \"System Events\" to keystroke \"v\" using {command down}'\n",
    "apple_script = AppKit.NSAppleScript.alloc().initWithSource_(script_source)\n",
    "apple_script.executeAndReturnError_(None)\n"
   ]
  }
 ],
 "metadata": {
  "kernelspec": {
   "display_name": "base",
   "language": "python",
   "name": "python3"
  },
  "language_info": {
   "codemirror_mode": {
    "name": "ipython",
    "version": 3
   },
   "file_extension": ".py",
   "mimetype": "text/x-python",
   "name": "python",
   "nbconvert_exporter": "python",
   "pygments_lexer": "ipython3",
   "version": "3.9.7"
  },
  "orig_nbformat": 4
 },
 "nbformat": 4,
 "nbformat_minor": 2
}
