{
 "cells": [
  {
   "attachments": {},
   "cell_type": "markdown",
   "metadata": {},
   "source": [
    "### notebook for parsing netlist XML files"
   ]
  },
  {
   "cell_type": "code",
   "execution_count": 1,
   "metadata": {},
   "outputs": [],
   "source": [
    "import numpy as np\n",
    "import matplotlib.pyplot as plt"
   ]
  },
  {
   "cell_type": "code",
   "execution_count": 29,
   "metadata": {},
   "outputs": [],
   "source": [
    "class Component:\n",
    "    def __init__(self, ref, value, mask=None):\n",
    "        self.ref = ref\n",
    "        self.value = value\n",
    "        self.mask = mask # mask could be filled after image processing stage\n",
    "\n",
    "    # when i call print(Component), i want to see the ref and value\n",
    "    def __str__(self):\n",
    "        return f'{self.ref} {self.value}'\n",
    "\n",
    "class Net:\n",
    "    def __init__(self, code, name):\n",
    "        self.code = code\n",
    "        self.name = name # name is an alternative custom name for a net (like VCC, GND, AMP_INPUT, etc.)\n",
    "        self.nodes = [] # each node should have a reference and a pin number\n",
    "\n",
    "    def __str__(self):\n",
    "        return f'{self.code} {self.name}'\n",
    "\n",
    "\n",
    "class Node:\n",
    "    def __init__(self, ref, pin):\n",
    "        self.ref = ref\n",
    "        self.pin = pin\n",
    "\n",
    "    def __str__(self):\n",
    "        return f'{self.ref} {self.pin}'\n",
    "\n",
    "# ideally, at the end of the breadboard image processing, we'll end up with a list of Component objects and a list of Net objects"
   ]
  },
  {
   "cell_type": "code",
   "execution_count": 39,
   "metadata": {},
   "outputs": [
    {
     "name": "stdout",
     "output_type": "stream",
     "text": [
      "1 -VDD 10\n",
      "4 /HPF_IN 5\n",
      "5 /IA_IN+ 2\n",
      "6 /IA_IN- 2\n",
      "8 AMP_IN 3\n",
      "9 AOUT 4\n",
      "10 AOUT1 2\n",
      "11 E+ 3\n",
      "12 E- 3\n",
      "13 GND 19\n",
      "14 HPF_OUT 6\n",
      "15 LPF_IN 3\n",
      "16 LPF_OUT 4\n",
      "17 NOTCH_IN 4\n",
      "18 NOTCH_OUT 3\n",
      "19 Net-(C13-Pad2) 3\n",
      "20 Net-(C14-Pad2) 3\n",
      "21 Net-(C16-Pad1) 2\n",
      "22 Net-(C16-Pad2) 2\n",
      "23 Net-(H6-Pad1) 2\n",
      "24 Net-(H7-Pad1) 2\n",
      "25 Net-(H8-Pad1) 2\n",
      "26 Net-(R5-Pad1) 2\n",
      "27 Net-(R5-Pad2) 2\n",
      "28 Net-(R7-Pad2) 2\n",
      "29 Net-(R7-Pad3) 3\n",
      "30 Net-(R14-Pad1) 3\n",
      "31 Net-(R14-Pad2) 3\n",
      "32 SK00 3\n",
      "33 SK01 3\n",
      "34 VDD 11\n"
     ]
    }
   ],
   "source": [
    "import re\n",
    "\n",
    "path_to_netlist = \"../data/emg-analog-front-end.net\"\n",
    "\n",
    "components = [] # array of Component objects\n",
    "nets = []\n",
    "\n",
    "# populate components array based on the netlist file\n",
    "with open(path_to_netlist, \"r\") as f:\n",
    "    lines = f.readlines()\n",
    "    current_component = None\n",
    "    for i in range(len(lines)):\n",
    "        line = lines[i]\n",
    "        if \"(comp (\" in line:\n",
    "            ref_str = lines[i]\n",
    "            value_str = lines[i+1]\n",
    "            ref = ref_str[ref_str.find('\"')+1:ref_str.rfind('\"')]\n",
    "            value = value_str[value_str.find('\"')+1:value_str.rfind('\"')]\n",
    "            component = Component(ref, value)\n",
    "            components.append(component)\n",
    "            i += 10 # component has 10 parameters in a netlist file\n",
    "\n",
    "        if \"(net (\" in line:\n",
    "            # \"(net (code \"1\") (name \"-VDD\")\"\n",
    "            net_code, net_name = None, None\n",
    "\n",
    "            code_match = re.search(r'\\(code \"([^\"]+)\"\\)', line)\n",
    "            if code_match:\n",
    "                net_code = code_match.group(1)\n",
    "            else:\n",
    "                net_code = None\n",
    "\n",
    "            name_match = re.search(r'\\(name \"([^\"]+)\"\\)', line)\n",
    "            if name_match:\n",
    "                net_name = name_match.group(1)\n",
    "            else:\n",
    "                net_name = None\n",
    "\n",
    "            net = Net(net_code, net_name)\n",
    "            i += 1\n",
    "            line = lines[i] # \"(node (ref \"C11\") (pin \"1\") (pintype \"passive\"))\"\n",
    "            \n",
    "            nodes = []\n",
    "            while \"node\" in line:\n",
    "                # \"(node (ref \"C11\") (pin \"1\") (pintype \"passive\"))\"\n",
    "                node_ref, node_pin = None, None\n",
    "\n",
    "                ref_match = re.search(r'\\(ref \"([^\"]+)\"\\)', line)\n",
    "                if ref_match:\n",
    "                    node_ref = ref_match.group(1)\n",
    "                else:\n",
    "                    node_ref = None\n",
    "\n",
    "                pin_match = re.search(r'\\(pin \"([^\"]+)\"\\)', line)\n",
    "                if pin_match:\n",
    "                    node_pin = pin_match.group(1)\n",
    "                else:\n",
    "                    node_pin = None\n",
    "\n",
    "                node = Node(ref, pin)\n",
    "                nodes.append(node)\n",
    "                i += 1\n",
    "                if i >= len(lines):\n",
    "                    break\n",
    "                line = lines[i]\n",
    "            net.nodes = nodes\n",
    "            print(net, len(net.nodes))\n",
    "\n",
    "        nets.append(net)\n",
    "\n",
    "    "
   ]
  },
  {
   "cell_type": "code",
   "execution_count": 4,
   "metadata": {},
   "outputs": [
    {
     "data": {
      "text/plain": [
       "[]"
      ]
     },
     "execution_count": 4,
     "metadata": {},
     "output_type": "execute_result"
    }
   ],
   "source": []
  },
  {
   "cell_type": "code",
   "execution_count": null,
   "metadata": {},
   "outputs": [],
   "source": []
  }
 ],
 "metadata": {
  "kernelspec": {
   "display_name": "Python 3",
   "language": "python",
   "name": "python3"
  },
  "language_info": {
   "codemirror_mode": {
    "name": "ipython",
    "version": 3
   },
   "file_extension": ".py",
   "mimetype": "text/x-python",
   "name": "python",
   "nbconvert_exporter": "python",
   "pygments_lexer": "ipython3",
   "version": "3.9.16"
  },
  "orig_nbformat": 4
 },
 "nbformat": 4,
 "nbformat_minor": 2
}
