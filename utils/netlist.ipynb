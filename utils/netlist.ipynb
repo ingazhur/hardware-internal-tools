{
 "cells": [
  {
   "attachments": {},
   "cell_type": "markdown",
   "metadata": {},
   "source": [
    "### notebook for parsing netlist XML files"
   ]
  },
  {
   "cell_type": "code",
   "execution_count": null,
   "metadata": {},
   "outputs": [],
   "source": [
    "import numpy as np\n",
    "import matplotlib.pyplot as plt"
   ]
  },
  {
   "cell_type": "code",
   "execution_count": 2,
   "metadata": {},
   "outputs": [],
   "source": [
    "class Component:\n",
    "    def __init__(self, ref, value, mask=None):\n",
    "        self.ref = ref\n",
    "        self.value = value\n",
    "        self.mask = mask\n",
    "\n",
    "class Net:\n",
    "    def __init__(self, code, name):\n",
    "        self.code = code\n",
    "        self.name = name # name is an alternative custom name for a net (like VCC, GND, AMP_INPUT, etc.)\n",
    "        self.nodes = [] # each node should have a reference and a pin number\n",
    "\n",
    "# ideally, at the end of the breadboard image processing, we'll end up with a list of Component objects and a list of Net objects"
   ]
  },
  {
   "cell_type": "code",
   "execution_count": 5,
   "metadata": {},
   "outputs": [
    {
     "ename": "AttributeError",
     "evalue": "'str' object has no attribute 'contains'",
     "output_type": "error",
     "traceback": [
      "\u001b[0;31m---------------------------------------------------------------------------\u001b[0m",
      "\u001b[0;31mAttributeError\u001b[0m                            Traceback (most recent call last)",
      "Cell \u001b[0;32mIn[5], line 35\u001b[0m\n\u001b[1;32m     33\u001b[0m \u001b[39mfor\u001b[39;00m i \u001b[39min\u001b[39;00m \u001b[39mrange\u001b[39m(\u001b[39mlen\u001b[39m(lines)):\n\u001b[1;32m     34\u001b[0m     line \u001b[39m=\u001b[39m lines[i]\n\u001b[0;32m---> 35\u001b[0m     \u001b[39mif\u001b[39;00m line\u001b[39m.\u001b[39;49mcontains(\u001b[39m\"\u001b[39m\u001b[39m(components\u001b[39m\u001b[39m\"\u001b[39m):\n\u001b[1;32m     36\u001b[0m         \u001b[39mwhile\u001b[39;00m \u001b[39mTrue\u001b[39;00m:\n\u001b[1;32m     37\u001b[0m             line \u001b[39m=\u001b[39m lines[i\u001b[39m+\u001b[39m\u001b[39m1\u001b[39m]\n",
      "\u001b[0;31mAttributeError\u001b[0m: 'str' object has no attribute 'contains'"
     ]
    }
   ],
   "source": [
    "path_to_netlist = \"../data/emg-analog-front-end.net\"\n",
    "\n",
    "components = [] # array of Component objects\n",
    "\n",
    "\"\"\"\n",
    "netlist file format example:\n",
    "( components\n",
    "    (comp (ref \"C1\")\n",
    "      (value \"0.1uF\")\n",
    "      (footprint \"Capacitor_SMD:C_0402_1005Metric\")\n",
    "      (datasheet \"~\")\n",
    "      (libsource (lib \"pspice\") (part \"C\") (description \"Capacitor symbol for simulation only\"))\n",
    "      (property (name \"Sheetname\") (value \"\"))\n",
    "      (property (name \"Sheetfile\") (value \"emg-analog-front-end.kicad_sch\"))\n",
    "      (sheetpath (names \"/\") (tstamps \"/\"))\n",
    "      (tstamps \"2d6e8e6b-9919-4517-8ea9-ce561907b19b\"))\n",
    "    (comp (ref \"C2\")\n",
    "      (value \"0.1uF\")\n",
    "      (footprint \"Capacitor_SMD:C_0402_1005Metric\")\n",
    "      (datasheet \"~\")\n",
    "      (libsource (lib \"pspice\") (part \"C\") (description \"Capacitor symbol for simulation only\"))\n",
    "      (property (name \"Sheetname\") (value \"\"))\n",
    "      (property (name \"Sheetfile\") (value \"emg-analog-front-end.kicad_sch\"))\n",
    "      (sheetpath (names \"/\") (tstamps \"/\"))\n",
    "      (tstamps \"33749e99-fa11-45ee-a221-9e74491e93d0\"))\n",
    "\n",
    "after parsing that file, components should have two Component objects in it, one for C1 and one for C2, etc.\n",
    "\"\"\"\n",
    "\n",
    "# populate components array based on the netlist file\n",
    "with open(path_to_netlist, \"r\") as f:\n",
    "    lines = f.readlines()\n",
    "    current_component = None\n",
    "    for i in range(len(lines)):\n",
    "        line = lines[i]\n",
    "        if \"(components\" in line:\n",
    "            # we're starting to populate the components array\n",
    "            # here is how the line looks like:     (comp (ref \"C1\")\n",
    "            # parse the ref\n",
    "            \n"
   ]
  },
  {
   "cell_type": "code",
   "execution_count": 4,
   "metadata": {},
   "outputs": [
    {
     "data": {
      "text/plain": [
       "[]"
      ]
     },
     "execution_count": 4,
     "metadata": {},
     "output_type": "execute_result"
    }
   ],
   "source": []
  },
  {
   "cell_type": "code",
   "execution_count": null,
   "metadata": {},
   "outputs": [],
   "source": []
  }
 ],
 "metadata": {
  "kernelspec": {
   "display_name": "Python 3",
   "language": "python",
   "name": "python3"
  },
  "language_info": {
   "codemirror_mode": {
    "name": "ipython",
    "version": 3
   },
   "file_extension": ".py",
   "mimetype": "text/x-python",
   "name": "python",
   "nbconvert_exporter": "python",
   "pygments_lexer": "ipython3",
   "version": "3.9.16"
  },
  "orig_nbformat": 4
 },
 "nbformat": 4,
 "nbformat_minor": 2
}
